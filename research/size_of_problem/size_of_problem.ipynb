{
 "cells": [
  {
   "cell_type": "code",
   "execution_count": 1,
   "metadata": {},
   "outputs": [],
   "source": [
    "from pluribus.poker.deck import Deck\n",
    "import math\n",
    "import numpy as np\n",
    "from itertools import combinations\n",
    "import time\n",
    "import dill as pickle"
   ]
  },
  {
   "cell_type": "markdown",
   "metadata": {},
   "source": [
    "### Brief Look at Size of Problem"
   ]
  },
  {
   "cell_type": "code",
   "execution_count": 2,
   "metadata": {},
   "outputs": [],
   "source": [
    "# additional resources:\n",
    "# https://poker.cs.ualberta.ca/publications/2013-techreport-nl-size.pdf"
   ]
  },
  {
   "cell_type": "code",
   "execution_count": 3,
   "metadata": {},
   "outputs": [],
   "source": [
    "deck = Deck()"
   ]
  },
  {
   "cell_type": "code",
   "execution_count": 4,
   "metadata": {},
   "outputs": [],
   "source": [
    "# when dealing with huge combos, this will be more performant\n",
    "# can evaluate the stored number directly\n",
    "cards = [c.eval_card for c in deck]"
   ]
  },
  {
   "cell_type": "code",
   "execution_count": 5,
   "metadata": {},
   "outputs": [],
   "source": [
    "def get_card_combos(num_cards, cards):\n",
    "    \"\"\"\n",
    "    return combos of cards (Card.eval_card)\n",
    "    \"\"\"\n",
    "    # most performant I could find so far\n",
    "    return np.asarray(list((combinations(cards, num_cards))))"
   ]
  },
  {
   "cell_type": "code",
   "execution_count": 6,
   "metadata": {},
   "outputs": [],
   "source": [
    "def ncr(n,r):\n",
    "    \"\"\"\n",
    "    helper function for calculating combination size\n",
    "    n choose r\"\"\"\n",
    "    return int(math.factorial(n)/(math.factorial(r)*math.factorial(n-r)))"
   ]
  },
  {
   "cell_type": "code",
   "execution_count": 7,
   "metadata": {},
   "outputs": [
    {
     "name": "stdout",
     "output_type": "stream",
     "text": [
      "0.0016908645629882812\n"
     ]
    }
   ],
   "source": [
    "start = time.time()\n",
    "unique_starting_hands = get_card_combos(2, cards)\n",
    "end = time.time()\n",
    "print(end - start)"
   ]
  },
  {
   "cell_type": "code",
   "execution_count": 8,
   "metadata": {},
   "outputs": [
    {
     "name": "stdout",
     "output_type": "stream",
     "text": [
      "unique starting_hands:  1326\n"
     ]
    }
   ],
   "source": [
    "#52 choose 2 (see: ncr())\n",
    "print(\"unique starting_hands: \", len(unique_starting_hands))"
   ]
  },
  {
   "cell_type": "code",
   "execution_count": 9,
   "metadata": {},
   "outputs": [
    {
     "name": "stdout",
     "output_type": "stream",
     "text": [
      "0.012323856353759766\n"
     ]
    }
   ],
   "source": [
    "start = time.time()\n",
    "flops = get_card_combos(3, cards) # flop combos plus starting hands\n",
    "end = time.time()\n",
    "print(end - start)"
   ]
  },
  {
   "cell_type": "code",
   "execution_count": 10,
   "metadata": {},
   "outputs": [],
   "source": [
    "# the following consider Ah,Kh,Jh,7h as different than Ah,Kh,7h,Jh\n",
    "# this might be fair to encode some sense of strategy"
   ]
  },
  {
   "cell_type": "code",
   "execution_count": 11,
   "metadata": {},
   "outputs": [
    {
     "name": "stdout",
     "output_type": "stream",
     "text": [
      "unique flops with unique starting hands:  25989600\n"
     ]
    }
   ],
   "source": [
    "print(\"unique flops with unique starting hands: \", ncr(52, 2) * ncr(50, 3))"
   ]
  },
  {
   "cell_type": "code",
   "execution_count": 12,
   "metadata": {},
   "outputs": [
    {
     "name": "stdout",
     "output_type": "stream",
     "text": [
      "unique flops + turns:  1221511200\n"
     ]
    }
   ],
   "source": [
    "print(\"unique flops + turns: \", ncr(52, 2) * ncr(50, 3) * ncr(47, 1))"
   ]
  },
  {
   "cell_type": "code",
   "execution_count": 13,
   "metadata": {},
   "outputs": [
    {
     "name": "stdout",
     "output_type": "stream",
     "text": [
      "unique flops + turns + rivers:  56189515200\n"
     ]
    }
   ],
   "source": [
    "print(\"unique flops + turns + rivers: \", ncr(52, 2) * ncr(50, 3) * ncr(47, 1) * ncr(46, 1))"
   ]
  },
  {
   "cell_type": "code",
   "execution_count": 14,
   "metadata": {},
   "outputs": [],
   "source": [
    "# both the supplementary and this paper below mention"
   ]
  },
  {
   "cell_type": "code",
   "execution_count": 15,
   "metadata": {},
   "outputs": [],
   "source": [
    "# we could also consider Ah,Kh,Jh,7h as not different than Ah,Kh,7h,Jh\n",
    "# this would mean \n",
    "# obviously, we have to consider starting hands as separate from the board\n",
    "# as evaluating Ks,Jh on a Ah,Kh,7h board is different than Ah,Jh on a Ks,Kh,7h\n",
    "# TODO (c): do we care about situations likie this? --yes!"
   ]
  },
  {
   "cell_type": "code",
   "execution_count": 16,
   "metadata": {},
   "outputs": [
    {
     "name": "stdout",
     "output_type": "stream",
     "text": [
      "unique flops with unique starting hands:  25989600\n"
     ]
    }
   ],
   "source": [
    "# example\n",
    "print(\"unique flops with unique starting hands: \", ncr(52, 2) * ncr(50, 3))"
   ]
  },
  {
   "cell_type": "code",
   "execution_count": 17,
   "metadata": {},
   "outputs": [
    {
     "name": "stdout",
     "output_type": "stream",
     "text": [
      "unique flops + turns:  305377800\n"
     ]
    }
   ],
   "source": [
    "print(\"unique flops + turns: \", ncr(52, 2) * ncr(50, 4))"
   ]
  },
  {
   "cell_type": "code",
   "execution_count": 18,
   "metadata": {},
   "outputs": [
    {
     "name": "stdout",
     "output_type": "stream",
     "text": [
      "unique flops + turns:  2809475760\n"
     ]
    }
   ],
   "source": [
    "print(\"unique flops + turns: \", ncr(52, 2) * ncr(50, 5))"
   ]
  },
  {
   "cell_type": "code",
   "execution_count": 19,
   "metadata": {},
   "outputs": [],
   "source": [
    "# but, really the best way would be to work on how to get lossless \n",
    "# here is an example: https://poker.cs.ualberta.ca/publications/2013-techreport-nl-size.pdf\n",
    "# it'll be a combination of strategy the same hands plus one of the methods above"
   ]
  },
  {
   "cell_type": "code",
   "execution_count": 20,
   "metadata": {},
   "outputs": [],
   "source": [
    "# here's a demonstration of the size (not even the largest problem)\n",
    "# TODO (c) we'll need to figure out how to apply lossless to each round\n",
    "# even then we'll still be clustering 2,428,287,420!! (169, flop: 1,286,792, turn: 55,190,538, river: 2,428,287,420)\n",
    "# unless we are using some sort of hip sampling trick"
   ]
  },
  {
   "cell_type": "markdown",
   "metadata": {},
   "source": [
    "### Notes on the Size of the Problem as it relates to Clustering the Information Situations"
   ]
  },
  {
   "cell_type": "markdown",
   "metadata": {},
   "source": [
    "- Turns out the second way depicted above will be fine (I think) for the imperfect recall paradigm\n",
    "    - see here: pg.4 under heading \"Computing the abstraction for round 1\": http://www.cs.cmu.edu/~sandholm/gs3.aaai07.pdf\n",
    "- Secondly, potentially use lossless as mentioned here\n",
    "    - pg. 274 5th paragragh http://www.ifaamas.org/Proceedings/aamas2013/docs/p271.pdf\n",
    "    - note also the two k means algorithm efficeincies discussed in the paragraph\n",
    "    - this is discussed in detail here: http://www.cs.cmu.edu/~sandholm/gs3.aaai07.pdf\n",
    "- Thirdly, change the clustering problem to deal with indices of histograms, rather than the entire histogram\n",
    "- I'm estimating 160 gigabytes to store the 2.5 billion x 8 numpy array needed to perform k means clustering on the river (using OCHS), or about 224 gigabytes to store the 3.5 billion X 8 numpy array needed to do the clustering for the river\n",
    "    - However, on the turn the problem would be at a minimum 5.5 X 10^7 x 200, which is too big\n",
    "    - can use sparse data here: https://scikit-learn.org/stable/modules/generated/sklearn.cluster.KMeans.html"
   ]
  },
  {
   "cell_type": "code",
   "execution_count": null,
   "metadata": {},
   "outputs": [],
   "source": []
  }
 ],
 "metadata": {
  "kernelspec": {
   "display_name": "poker",
   "language": "python",
   "name": "poker"
  },
  "language_info": {
   "codemirror_mode": {
    "name": "ipython",
    "version": 3
   },
   "file_extension": ".py",
   "mimetype": "text/x-python",
   "name": "python",
   "nbconvert_exporter": "python",
   "pygments_lexer": "ipython3",
   "version": "3.7.1"
  }
 },
 "nbformat": 4,
 "nbformat_minor": 4
}
