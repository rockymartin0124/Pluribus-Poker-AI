{
 "cells": [
  {
   "cell_type": "code",
   "execution_count": 1,
   "metadata": {},
   "outputs": [],
   "source": [
    "import dill as pickle\n",
    "from pluribus.game.evaluation import Evaluator\n",
    "import math\n",
    "import time\n",
    "import random\n",
    "import numpy as np\n",
    "from scipy.stats import wasserstein_distance\n"
   ]
  },
  {
   "cell_type": "code",
   "execution_count": 2,
   "metadata": {},
   "outputs": [],
   "source": [
    "with open('data/ehss_river.pkl', 'rb') as file:\n",
    "    data = pickle.load(file)\n",
    "with open('data/ehs_dist_turn.pkl', 'rb') as file:\n",
    "    data2 = pickle.load(file)"
   ]
  },
  {
   "cell_type": "code",
   "execution_count": 3,
   "metadata": {},
   "outputs": [],
   "source": [
    "# original deck the river centroids were created from\n",
    "short_deck = data['short_deck']\n",
    "# speedy look up for printing\n",
    "eval_to_card = data['eval_to_card']\n",
    "\n",
    "# river & turn centroids\n",
    "river_centroids = data['river_centroids']\n",
    "turn_centroids = data2['turn_centroids']\n",
    "\n",
    "# combos - I don't think I'll need all of them\n",
    "on_flop = data['combos'][0]\n",
    "on_turn = data['combos'][1]\n",
    "on_river = data['combos'][2]\n",
    "\n",
    "# expected hand strength on the river.. don't think I'll need it.. ehs distributions on turn\n",
    "ehss_river = data['ehss_river'] \n",
    "ehs_dist_turn = data2['ehs_distributions']\n",
    "evaluator = Evaluator()"
   ]
  },
  {
   "cell_type": "code",
   "execution_count": 4,
   "metadata": {},
   "outputs": [],
   "source": [
    "def ncr(n,r):\n",
    "    \"\"\"\n",
    "    helper function for calculating combination size\n",
    "    n choose r\"\"\"\n",
    "    return int(math.factorial(n)/(math.factorial(r)*math.factorial(n-r)))"
   ]
  },
  {
   "cell_type": "code",
   "execution_count": 5,
   "metadata": {},
   "outputs": [
    {
     "name": "stdout",
     "output_type": "stream",
     "text": [
      "expected flop: 2520\n"
     ]
    }
   ],
   "source": [
    "print(f'expected flop: {ncr(10,2)*ncr(8,3)}')"
   ]
  },
  {
   "cell_type": "code",
   "execution_count": 6,
   "metadata": {},
   "outputs": [
    {
     "name": "stdout",
     "output_type": "stream",
     "text": [
      "my combos: 2520\n"
     ]
    }
   ],
   "source": [
    "print(f'my combos: {len(on_flop)}')"
   ]
  },
  {
   "cell_type": "code",
   "execution_count": 7,
   "metadata": {},
   "outputs": [],
   "source": [
    "# get data for expected hand rates on 3 card public board, not lossless"
   ]
  },
  {
   "cell_type": "code",
   "execution_count": 8,
   "metadata": {},
   "outputs": [
    {
     "name": "stdout",
     "output_type": "stream",
     "text": [
      "339.595823764801\n"
     ]
    }
   ],
   "source": [
    "# making MUCH smaller for quicker time\n",
    "start = time.time()\n",
    "\n",
    "# object for EMD on expected of hand strength off flop (distribution)\n",
    "ehs_distribution_flops = []\n",
    "\n",
    "for i, public in enumerate(on_flop): \n",
    "    available_cards = [x for x in short_deck if x not in public] # this is probably not a good idea\n",
    "    random.shuffle(available_cards) # can't remember why I did this..\n",
    "    \n",
    "    # where i'll store the data for each flop\n",
    "    ehs_distribution_flop = np.zeros(len(turn_centroids))\n",
    "    for j in range(7):  \n",
    "                        # probably want to increase this number?\n",
    "                        # it's too small maybe for this toy problem\n",
    "\n",
    "        # randomly generating turn\n",
    "        turn_card = random.sample(available_cards, 1)\n",
    "\n",
    "        our_hand = list(public[:2])\n",
    "        board = public[2:5]\n",
    "        board = np.append(board, turn_card).tolist()\n",
    "        \n",
    "        # getting available cards\n",
    "        available_cards_turn = [x for x in available_cards if x != turn_card[0]] # oof\n",
    "        \n",
    "        \n",
    "        # the similar object I used in the turn clustering.. get ehs distribution for turn\n",
    "        ehs_distribution = np.zeros(len(river_centroids))\n",
    "        # sample river cards and run a simulation\n",
    "        for k in range(7):\n",
    "            \n",
    "            river_card = random.sample(available_cards_turn, 1)\n",
    "            board = list(public[2:5]) + turn_card # need to define thiss again\n",
    "            board = board + river_card\n",
    "            available_cards_river = [x for x in available_cards_turn if x != river_card[0]] # oof\n",
    "            \n",
    "            our_hand_rank = evaluator.evaluate(\n",
    "                board=board, \n",
    "                cards=our_hand,\n",
    "            )\n",
    "        \n",
    "            # simulations will be run against randomly drawn opponent hands\n",
    "            ehs=[0]*3\n",
    "            for l in range(15): # will want to increase this\n",
    "                \n",
    "                # sample from the available cards on the river\n",
    "                opp_hand = random.sample(available_cards_river, 2)\n",
    "\n",
    "                opp_hand_rank = evaluator.evaluate(\n",
    "                        board=board,\n",
    "                        cards=opp_hand,\n",
    "                )\n",
    "\n",
    "                # who wins?\n",
    "                if our_hand_rank > opp_hand_rank: # maybe some mod magic here\n",
    "                    idx = 0\n",
    "                elif our_hand_rank < opp_hand_rank:\n",
    "                    idx = 1\n",
    "                elif our_hand_rank == opp_hand_rank:\n",
    "                    idx = 2\n",
    "\n",
    "                # increment win rate for winner\n",
    "                ehs[idx] += 1/15\n",
    "        \n",
    "            # get EMD for expected hand strength against each river centroid\n",
    "            # to which does it belong?\n",
    "            for idx, river_centroid in enumerate(river_centroids):\n",
    "                emd = wasserstein_distance(ehs, river_centroid)\n",
    "\n",
    "                if idx == 0:\n",
    "                    min_idx = idx\n",
    "                    min_emd = emd\n",
    "                else:\n",
    "                    if emd < min_emd:\n",
    "                        min_idx = idx\n",
    "                        min_emd = emd\n",
    "\n",
    "            # ok, now increment the cluster to which it belongs - \n",
    "            ehs_distribution[min_idx] += 1/7 # could also probs be just a regular old integer\n",
    "\n",
    "        # now same thing for the newly found turn centroids\n",
    "        for idx, turn_centroid in enumerate(turn_centroids):\n",
    "            \n",
    "            #earth mover distance\n",
    "            emd = wasserstein_distance(ehs_distribution, turn_centroid)\n",
    "\n",
    "            if idx == 0:\n",
    "                min_idx = idx\n",
    "                min_emd = emd\n",
    "            else:\n",
    "                if emd < min_emd:\n",
    "                    min_idx = idx\n",
    "                    min_emd = emd\n",
    "\n",
    "        # ok, now increment the cluster to which it belongs - \n",
    "        ehs_distribution_flop[min_idx] += 1/7 \n",
    "        \n",
    "    # object for storing flop potential aware expected hand strength distributions     \n",
    "    ehs_distribution_flops.append(ehs_distribution_flop)\n",
    "          \n",
    "end = time.time()\n",
    "print(end - start)"
   ]
  },
  {
   "cell_type": "code",
   "execution_count": 9,
   "metadata": {},
   "outputs": [
    {
     "data": {
      "text/plain": [
       "2520"
      ]
     },
     "execution_count": 9,
     "metadata": {},
     "output_type": "execute_result"
    }
   ],
   "source": [
    "len(ehs_distribution_flops)"
   ]
  },
  {
   "cell_type": "code",
   "execution_count": 10,
   "metadata": {},
   "outputs": [],
   "source": [
    "# simple kmeans algo - should I write from scratch?\n",
    "from sklearn.cluster import KMeans\n",
    "\n",
    "X = np.array(ehs_distribution_flops)\n",
    "\n",
    "km = KMeans(\n",
    "    n_clusters=15, init='random',\n",
    "    n_init=10, max_iter=300, \n",
    "    tol=1e-04, random_state=0\n",
    ")\n",
    "y_km = km.fit_predict(X)"
   ]
  },
  {
   "cell_type": "code",
   "execution_count": 11,
   "metadata": {},
   "outputs": [],
   "source": [
    "# centers to be used to get data for EMD\n",
    "centroids = km.cluster_centers_"
   ]
  },
  {
   "cell_type": "code",
   "execution_count": 12,
   "metadata": {},
   "outputs": [],
   "source": [
    "data = {\n",
    "    'ehs_distributions_flops': ehs_distribution_flops,\n",
    "    'short_deck': short_deck,\n",
    "    'combos': [on_flop, on_turn, on_river],\n",
    "    'turn_centroids': centroids,\n",
    "    'eval_to_card': eval_to_card\n",
    "}"
   ]
  },
  {
   "cell_type": "code",
   "execution_count": 13,
   "metadata": {},
   "outputs": [],
   "source": [
    "with open('data/ehs_dist_flop.pkl', 'wb') as file:\n",
    "    pickle.dump(data, file)"
   ]
  },
  {
   "cell_type": "code",
   "execution_count": 14,
   "metadata": {},
   "outputs": [],
   "source": [
    "# # to reopen\n",
    "# with open('data/ehss_river.pkl', 'rb') as file:\n",
    "#     data = pickle.load(file)"
   ]
  },
  {
   "cell_type": "code",
   "execution_count": 15,
   "metadata": {},
   "outputs": [],
   "source": [
    "compare_hands = random.sample(list(on_flop[y_km==0]), 5)"
   ]
  },
  {
   "cell_type": "code",
   "execution_count": 16,
   "metadata": {},
   "outputs": [
    {
     "name": "stdout",
     "output_type": "stream",
     "text": [
      "####Hand\n",
      "[<Card card=[king of clubs ♣]>, <Card card=[3 of clubs ♣]>]\n",
      "####Board\n",
      "[<Card card=[9 of clubs ♣]>, <Card card=[2 of diamonds ♦]>, <Card card=[2 of clubs ♣]>]\n",
      "####Hand\n",
      "[<Card card=[2 of clubs ♣]>, <Card card=[3 of clubs ♣]>]\n",
      "####Board\n",
      "[<Card card=[10 of clubs ♣]>, <Card card=[king of clubs ♣]>, <Card card=[2 of diamonds ♦]>]\n",
      "####Hand\n",
      "[<Card card=[8 of diamonds ♦]>, <Card card=[2 of clubs ♣]>]\n",
      "####Board\n",
      "[<Card card=[6 of diamonds ♦]>, <Card card=[king of hearts ♥]>, <Card card=[2 of diamonds ♦]>]\n",
      "####Hand\n",
      "[<Card card=[10 of clubs ♣]>, <Card card=[3 of clubs ♣]>]\n",
      "####Board\n",
      "[<Card card=[ace of hearts ♥]>, <Card card=[8 of diamonds ♦]>, <Card card=[2 of clubs ♣]>]\n",
      "####Hand\n",
      "[<Card card=[10 of clubs ♣]>, <Card card=[3 of clubs ♣]>]\n",
      "####Board\n",
      "[<Card card=[6 of diamonds ♦]>, <Card card=[2 of diamonds ♦]>, <Card card=[2 of clubs ♣]>]\n"
     ]
    }
   ],
   "source": [
    "# taking a look at them\n",
    "# I think these are ones with a good chance of drawing, and maybe otherwise what?\n",
    "for games in compare_hands:\n",
    "    t = [eval_to_card[x] for x in games.tolist()[:2]]\n",
    "    print(\"####Hand\")\n",
    "    print(t)\n",
    "    t = [eval_to_card[x] for x in games.tolist()[2:]]\n",
    "    print(\"####Board\")\n",
    "    print(t)"
   ]
  },
  {
   "cell_type": "code",
   "execution_count": 17,
   "metadata": {},
   "outputs": [
    {
     "name": "stdout",
     "output_type": "stream",
     "text": [
      "[[0.14285714 0.71428571 0.14285714 0.         0.         0.\n",
      "  0.         0.         0.         0.         0.         0.\n",
      "  0.         0.         0.        ]\n",
      " [0.14285714 0.71428571 0.         0.         0.         0.14285714\n",
      "  0.         0.         0.         0.         0.         0.\n",
      "  0.         0.         0.        ]\n",
      " [0.14285714 0.57142857 0.         0.         0.         0.14285714\n",
      "  0.         0.         0.         0.         0.14285714 0.\n",
      "  0.         0.         0.        ]\n",
      " [0.         0.57142857 0.         0.         0.         0.14285714\n",
      "  0.         0.         0.         0.         0.14285714 0.\n",
      "  0.         0.         0.14285714]\n",
      " [0.14285714 0.71428571 0.         0.         0.         0.14285714\n",
      "  0.         0.         0.         0.         0.         0.\n",
      "  0.         0.         0.        ]\n",
      " [0.         0.57142857 0.         0.         0.         0.14285714\n",
      "  0.         0.         0.         0.         0.28571429 0.\n",
      "  0.         0.         0.        ]\n",
      " [0.14285714 0.71428571 0.         0.         0.         0.\n",
      "  0.         0.         0.         0.         0.14285714 0.\n",
      "  0.         0.         0.        ]\n",
      " [0.14285714 0.57142857 0.14285714 0.         0.         0.\n",
      "  0.         0.         0.         0.14285714 0.         0.\n",
      "  0.         0.         0.        ]\n",
      " [0.         0.57142857 0.14285714 0.         0.         0.\n",
      "  0.         0.         0.         0.14285714 0.14285714 0.\n",
      "  0.         0.         0.        ]\n",
      " [0.28571429 0.57142857 0.         0.         0.         0.14285714\n",
      "  0.         0.         0.         0.         0.         0.\n",
      "  0.         0.         0.        ]]\n"
     ]
    }
   ],
   "source": [
    "# ok, this looks understandable\n",
    "print(np.array(ehs_distribution_flops)[y_km==4][:10])"
   ]
  },
  {
   "cell_type": "code",
   "execution_count": 18,
   "metadata": {},
   "outputs": [
    {
     "name": "stdout",
     "output_type": "stream",
     "text": [
      "[[0.28571429 0.57142857 0.         0.         0.         0.\n",
      "  0.         0.         0.         0.         0.         0.\n",
      "  0.         0.         0.14285714]\n",
      " [0.42857143 0.28571429 0.         0.         0.         0.\n",
      "  0.         0.         0.         0.14285714 0.14285714 0.\n",
      "  0.         0.         0.        ]\n",
      " [0.28571429 0.57142857 0.14285714 0.         0.         0.\n",
      "  0.         0.         0.         0.         0.         0.\n",
      "  0.         0.         0.        ]\n",
      " [0.42857143 0.28571429 0.         0.         0.         0.\n",
      "  0.         0.         0.         0.         0.14285714 0.\n",
      "  0.         0.         0.14285714]\n",
      " [0.28571429 0.28571429 0.         0.         0.         0.14285714\n",
      "  0.         0.         0.         0.         0.14285714 0.\n",
      "  0.         0.         0.14285714]\n",
      " [0.42857143 0.42857143 0.         0.         0.         0.\n",
      "  0.         0.         0.         0.14285714 0.         0.\n",
      "  0.         0.         0.        ]\n",
      " [0.28571429 0.28571429 0.14285714 0.         0.         0.\n",
      "  0.         0.         0.         0.14285714 0.         0.\n",
      "  0.         0.         0.14285714]\n",
      " [0.42857143 0.28571429 0.         0.         0.         0.\n",
      "  0.         0.         0.         0.14285714 0.         0.\n",
      "  0.         0.         0.14285714]\n",
      " [0.28571429 0.28571429 0.         0.         0.         0.28571429\n",
      "  0.         0.         0.         0.         0.14285714 0.\n",
      "  0.         0.         0.        ]\n",
      " [0.28571429 0.57142857 0.14285714 0.         0.         0.\n",
      "  0.         0.         0.         0.         0.         0.\n",
      "  0.         0.         0.        ]]\n"
     ]
    }
   ],
   "source": [
    "# ok, this looks understandable\n",
    "print(np.array(ehs_distribution_flops)[y_km==0][-10:])"
   ]
  },
  {
   "cell_type": "code",
   "execution_count": null,
   "metadata": {},
   "outputs": [],
   "source": []
  }
 ],
 "metadata": {
  "kernelspec": {
   "display_name": "poker",
   "language": "python",
   "name": "poker"
  },
  "language_info": {
   "codemirror_mode": {
    "name": "ipython",
    "version": 3
   },
   "file_extension": ".py",
   "mimetype": "text/x-python",
   "name": "python",
   "nbconvert_exporter": "python",
   "pygments_lexer": "ipython3",
   "version": "3.7.1"
  }
 },
 "nbformat": 4,
 "nbformat_minor": 4
}
