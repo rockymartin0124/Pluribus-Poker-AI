{
 "cells": [
  {
   "cell_type": "code",
   "execution_count": 3,
   "metadata": {},
   "outputs": [],
   "source": [
    "import dill as pickle\n",
    "from pluribus.game.evaluation import Evaluator\n",
    "import math\n",
    "import time\n",
    "import random\n",
    "import numpy as np\n",
    "\n",
    "# maybe this implementation of EMD will be too slow..\n",
    "from scipy.stats import wasserstein_distance\n",
    "import matplotlib.pyplot as plt"
   ]
  },
  {
   "cell_type": "code",
   "execution_count": 4,
   "metadata": {},
   "outputs": [],
   "source": [
    "with open('data/ehss_river.pkl', 'rb') as file:\n",
    "    data = pickle.load(file)"
   ]
  },
  {
   "cell_type": "code",
   "execution_count": 5,
   "metadata": {},
   "outputs": [],
   "source": [
    "# original deck the river centroids were created from\n",
    "short_deck = data['short_deck']\n",
    "# speedy look up for printing\n",
    "eval_to_card = data['eval_to_card']\n",
    "# river centroids\n",
    "river_centroids = data['river_centroids']\n",
    "\n",
    "# combos - I don't think I'll need all of them\n",
    "on_flop = data['combos'][0]\n",
    "on_turn = data['combos'][1]\n",
    "on_river = data['combos'][2]\n",
    "\n",
    "# expected hand strength on the river.. don't think I'll need it..\n",
    "ehss_river = data['ehss_river'] \n",
    "evaluator = Evaluator()"
   ]
  },
  {
   "cell_type": "code",
   "execution_count": 6,
   "metadata": {},
   "outputs": [],
   "source": [
    "def ncr(n,r):\n",
    "    \"\"\"\n",
    "    helper function for calculating combination size\n",
    "    n choose r\"\"\"\n",
    "    return int(math.factorial(n)/(math.factorial(r)*math.factorial(n-r)))"
   ]
  },
  {
   "cell_type": "code",
   "execution_count": 7,
   "metadata": {},
   "outputs": [
    {
     "name": "stdout",
     "output_type": "stream",
     "text": [
      "expected turn: 12600\n"
     ]
    }
   ],
   "source": [
    "print(f'expected turn: {ncr(10,2)*ncr(8,3)*ncr(5,1)}')"
   ]
  },
  {
   "cell_type": "code",
   "execution_count": 8,
   "metadata": {},
   "outputs": [
    {
     "name": "stdout",
     "output_type": "stream",
     "text": [
      "my combos: 12600\n"
     ]
    }
   ],
   "source": [
    "print(f'my combos: {len(on_turn)}')"
   ]
  },
  {
   "cell_type": "code",
   "execution_count": 9,
   "metadata": {},
   "outputs": [],
   "source": [
    "emd = [0]*len(on_river) # stats for expected hand strengths"
   ]
  },
  {
   "cell_type": "code",
   "execution_count": 10,
   "metadata": {},
   "outputs": [],
   "source": [
    "# get data for expected hand rates on 4 card public board, not lossless"
   ]
  },
  {
   "cell_type": "code",
   "execution_count": 11,
   "metadata": {},
   "outputs": [
    {
     "name": "stdout",
     "output_type": "stream",
     "text": [
      "562.2676639556885\n"
     ]
    }
   ],
   "source": [
    "start = time.time()\n",
    "\n",
    "# object for EMD on expected of hand strength (distribution)\n",
    "ehs_distributions = []\n",
    "\n",
    "for i, public in enumerate(on_turn): \n",
    "    available_cards = [x for x in short_deck if x not in public] # this is probably not a good idea\n",
    "    random.shuffle(available_cards)\n",
    "    \n",
    "    # sample river cards and run a simulation\n",
    "    ehs_distribution = np.zeros(len(river_centroids))\n",
    "    for j in range(15):  \n",
    "                        # probably want to increase this number?\n",
    "                        # it's too small maybe for this toy problem\n",
    "\n",
    "        river_card = random.sample(available_cards, 1)\n",
    "        our_hand = list(public[:2])\n",
    "        board = public[2:6]\n",
    "        board = np.append(board, river_card).tolist()\n",
    "        # if sample with river then error (because obvi)\n",
    "        available_cards_river = [x for x in available_cards if x != river_card[0]] # oof\n",
    "        \n",
    "        our_hand_rank = evaluator.evaluate(\n",
    "            board=board, \n",
    "            cards=our_hand,\n",
    "        )\n",
    "        \n",
    "        # simulations will be run against randomly drawn opponent hands\n",
    "        ehs=[0]*3\n",
    "        for k in range(50): # will want to increase this?\n",
    "            # sample from the available cards on the river\n",
    "            opp_hand = random.sample(available_cards_river, 2)\n",
    "            \n",
    "            opp_hand_rank = evaluator.evaluate(\n",
    "                    board=board,\n",
    "                    cards=opp_hand,\n",
    "            )\n",
    "            \n",
    "            # who wins?\n",
    "            if our_hand_rank > opp_hand_rank: # maybe some mod magic here\n",
    "                idx = 0\n",
    "            elif our_hand_rank < opp_hand_rank:\n",
    "                idx = 1\n",
    "            elif our_hand_rank == opp_hand_rank:\n",
    "                idx = 2\n",
    "            \n",
    "            # increment win rate for winner\n",
    "            ehs[idx] += 1/50\n",
    "        \n",
    "        # get EMD for expected hand strength against each river centroid\n",
    "        # to which does it belong?\n",
    "        for idx, river_centroid in enumerate(river_centroids):\n",
    "            emd = wasserstein_distance(ehs, river_centroid)\n",
    "            \n",
    "            if idx == 0:\n",
    "                min_idx = idx\n",
    "                min_emd = emd\n",
    "            else:\n",
    "                if emd < min_emd:\n",
    "                    min_idx = idx\n",
    "                    min_emd = emd\n",
    "                    \n",
    "        # ok, now increment the cluster to which it belongs - \n",
    "        ehs_distribution[min_idx] += 1/15 # could also probs be just a regular old integer\n",
    "         \n",
    "    ehs_distributions.append(ehs_distribution)\n",
    "          \n",
    "end = time.time()\n",
    "print(end - start)"
   ]
  },
  {
   "cell_type": "code",
   "execution_count": 12,
   "metadata": {},
   "outputs": [
    {
     "data": {
      "text/plain": [
       "12600"
      ]
     },
     "execution_count": 12,
     "metadata": {},
     "output_type": "execute_result"
    }
   ],
   "source": [
    "len(ehs_distributions)"
   ]
  },
  {
   "cell_type": "code",
   "execution_count": 13,
   "metadata": {},
   "outputs": [],
   "source": [
    "# simple kmeans algo - should I write from scratch?\n",
    "from sklearn.cluster import KMeans\n",
    "\n",
    "X = np.array(ehs_distributions)\n",
    "\n",
    "km = KMeans(\n",
    "    n_clusters=15, init='random',\n",
    "    n_init=10, max_iter=300, \n",
    "    tol=1e-04, random_state=0\n",
    ")\n",
    "y_km = km.fit_predict(X)"
   ]
  },
  {
   "cell_type": "code",
   "execution_count": 14,
   "metadata": {},
   "outputs": [],
   "source": [
    "# centers to be used to get data for EMD\n",
    "centroids = km.cluster_centers_"
   ]
  },
  {
   "cell_type": "code",
   "execution_count": 15,
   "metadata": {},
   "outputs": [],
   "source": [
    "data = {\n",
    "    'ehs_distributions': ehs_distributions,\n",
    "    'short_deck': short_deck,\n",
    "    'combos': [on_flop, on_turn, on_river],\n",
    "    'turn_centroids': centroids,\n",
    "    'eval_to_card': eval_to_card\n",
    "}"
   ]
  },
  {
   "cell_type": "code",
   "execution_count": 16,
   "metadata": {},
   "outputs": [],
   "source": [
    "with open('data/ehs_dist_turn.pkl', 'wb') as file:\n",
    "    pickle.dump(data, file)"
   ]
  },
  {
   "cell_type": "code",
   "execution_count": 17,
   "metadata": {},
   "outputs": [],
   "source": [
    "# # to reopen\n",
    "# with open('data/ehss_river.pkl', 'rb') as file:\n",
    "#     data = pickle.load(file)"
   ]
  },
  {
   "cell_type": "code",
   "execution_count": 18,
   "metadata": {},
   "outputs": [],
   "source": [
    "compare_hands = random.sample(list(on_turn[y_km==4]), 5)"
   ]
  },
  {
   "cell_type": "code",
   "execution_count": 19,
   "metadata": {},
   "outputs": [
    {
     "name": "stdout",
     "output_type": "stream",
     "text": [
      "####Hand\n",
      "[<Card card=[6 of diamonds ♦]>, <Card card=[king of hearts ♥]>]\n",
      "####Board\n",
      "[<Card card=[10 of clubs ♣]>, <Card card=[2 of clubs ♣]>, <Card card=[3 of clubs ♣]>, <Card card=[king of clubs ♣]>]\n",
      "####Hand\n",
      "[<Card card=[10 of clubs ♣]>, <Card card=[ace of hearts ♥]>]\n",
      "####Board\n",
      "[<Card card=[9 of clubs ♣]>, <Card card=[2 of diamonds ♦]>, <Card card=[2 of clubs ♣]>, <Card card=[king of hearts ♥]>]\n",
      "####Hand\n",
      "[<Card card=[6 of diamonds ♦]>, <Card card=[king of hearts ♥]>]\n",
      "####Board\n",
      "[<Card card=[ace of hearts ♥]>, <Card card=[8 of diamonds ♦]>, <Card card=[2 of diamonds ♦]>, <Card card=[10 of clubs ♣]>]\n",
      "####Hand\n",
      "[<Card card=[10 of clubs ♣]>, <Card card=[2 of clubs ♣]>]\n",
      "####Board\n",
      "[<Card card=[6 of diamonds ♦]>, <Card card=[king of hearts ♥]>, <Card card=[3 of clubs ♣]>, <Card card=[2 of diamonds ♦]>]\n",
      "####Hand\n",
      "[<Card card=[9 of clubs ♣]>, <Card card=[2 of diamonds ♦]>]\n",
      "####Board\n",
      "[<Card card=[ace of hearts ♥]>, <Card card=[8 of diamonds ♦]>, <Card card=[king of hearts ♥]>, <Card card=[3 of clubs ♣]>]\n"
     ]
    }
   ],
   "source": [
    "# taking a look at them\n",
    "# I think these are ones with a good chance of drawing, and maybe otherwise what?\n",
    "for games in compare_hands:\n",
    "    t = [eval_to_card[x] for x in games.tolist()[:2]]\n",
    "    print(\"####Hand\")\n",
    "    print(t)\n",
    "    t = [eval_to_card[x] for x in games.tolist()[2:]]\n",
    "    print(\"####Board\")\n",
    "    print(t)"
   ]
  },
  {
   "cell_type": "code",
   "execution_count": 20,
   "metadata": {},
   "outputs": [
    {
     "name": "stdout",
     "output_type": "stream",
     "text": [
      "[[0.33333333 0.         0.13333333 0.13333333 0.06666667 0.13333333\n",
      "  0.         0.         0.         0.         0.         0.\n",
      "  0.         0.         0.2       ]\n",
      " [0.33333333 0.         0.13333333 0.06666667 0.06666667 0.13333333\n",
      "  0.         0.         0.         0.         0.         0.\n",
      "  0.         0.06666667 0.2       ]\n",
      " [0.33333333 0.         0.26666667 0.2        0.         0.06666667\n",
      "  0.         0.         0.         0.         0.         0.\n",
      "  0.         0.         0.13333333]\n",
      " [0.2        0.         0.13333333 0.2        0.         0.13333333\n",
      "  0.         0.06666667 0.         0.         0.         0.\n",
      "  0.13333333 0.         0.13333333]\n",
      " [0.26666667 0.         0.13333333 0.13333333 0.         0.06666667\n",
      "  0.         0.         0.         0.06666667 0.         0.\n",
      "  0.         0.13333333 0.2       ]\n",
      " [0.26666667 0.         0.06666667 0.06666667 0.06666667 0.13333333\n",
      "  0.         0.         0.         0.         0.         0.\n",
      "  0.         0.         0.4       ]\n",
      " [0.33333333 0.         0.26666667 0.13333333 0.         0.06666667\n",
      "  0.         0.         0.         0.06666667 0.         0.\n",
      "  0.06666667 0.         0.06666667]\n",
      " [0.26666667 0.         0.2        0.2        0.         0.13333333\n",
      "  0.         0.         0.         0.         0.         0.\n",
      "  0.         0.06666667 0.13333333]\n",
      " [0.33333333 0.         0.13333333 0.06666667 0.         0.13333333\n",
      "  0.         0.06666667 0.         0.06666667 0.         0.06666667\n",
      "  0.         0.         0.13333333]\n",
      " [0.33333333 0.         0.26666667 0.13333333 0.13333333 0.06666667\n",
      "  0.         0.         0.         0.         0.         0.\n",
      "  0.         0.         0.06666667]]\n"
     ]
    }
   ],
   "source": [
    "# ok, this looks understandable\n",
    "print(np.array(ehs_distributions)[y_km==4][:10])"
   ]
  },
  {
   "cell_type": "code",
   "execution_count": 21,
   "metadata": {},
   "outputs": [
    {
     "name": "stdout",
     "output_type": "stream",
     "text": [
      "[[0.53333333 0.         0.         0.         0.06666667 0.06666667\n",
      "  0.2        0.         0.         0.         0.         0.\n",
      "  0.06666667 0.         0.06666667]\n",
      " [0.73333333 0.         0.         0.         0.         0.\n",
      "  0.26666667 0.         0.         0.         0.         0.\n",
      "  0.         0.         0.        ]\n",
      " [0.53333333 0.         0.         0.06666667 0.         0.\n",
      "  0.26666667 0.06666667 0.         0.         0.         0.\n",
      "  0.         0.06666667 0.        ]\n",
      " [0.53333333 0.         0.         0.         0.         0.\n",
      "  0.46666667 0.         0.         0.         0.         0.\n",
      "  0.         0.         0.        ]\n",
      " [0.73333333 0.         0.         0.         0.         0.\n",
      "  0.26666667 0.         0.         0.         0.         0.\n",
      "  0.         0.         0.        ]\n",
      " [0.66666667 0.         0.         0.         0.         0.\n",
      "  0.33333333 0.         0.         0.         0.         0.\n",
      "  0.         0.         0.        ]\n",
      " [0.46666667 0.         0.06666667 0.06666667 0.         0.06666667\n",
      "  0.26666667 0.         0.         0.         0.         0.\n",
      "  0.         0.         0.06666667]\n",
      " [0.46666667 0.         0.         0.         0.06666667 0.\n",
      "  0.4        0.         0.         0.         0.         0.\n",
      "  0.         0.         0.06666667]\n",
      " [0.66666667 0.         0.         0.         0.         0.\n",
      "  0.33333333 0.         0.         0.         0.         0.\n",
      "  0.         0.         0.        ]\n",
      " [0.6        0.         0.         0.         0.         0.\n",
      "  0.4        0.         0.         0.         0.         0.\n",
      "  0.         0.         0.        ]]\n"
     ]
    }
   ],
   "source": [
    "# ok, this looks understandable\n",
    "print(np.array(ehs_distributions)[y_km==0][:10])"
   ]
  },
  {
   "cell_type": "code",
   "execution_count": null,
   "metadata": {},
   "outputs": [],
   "source": []
  }
 ],
 "metadata": {
  "kernelspec": {
   "display_name": "poker",
   "language": "python",
   "name": "poker"
  },
  "language_info": {
   "codemirror_mode": {
    "name": "ipython",
    "version": 3
   },
   "file_extension": ".py",
   "mimetype": "text/x-python",
   "name": "python",
   "nbconvert_exporter": "python",
   "pygments_lexer": "ipython3",
   "version": "3.7.1"
  }
 },
 "nbformat": 4,
 "nbformat_minor": 4
}
